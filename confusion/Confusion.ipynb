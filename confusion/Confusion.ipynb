{
 "cells": [
  {
   "cell_type": "code",
   "execution_count": 2,
   "metadata": {},
   "outputs": [],
   "source": [
    "import numpy as np\n",
    "import glob\n",
    "import json\n",
    "from PIL import Image\n",
    "\n",
    "import matplotlib.pyplot as plt\n",
    "%matplotlib inline\n",
    "\n",
    "# ML libraries\n",
    "from keras.models import Sequential\n",
    "from keras.layers import Dense, Conv2D, Flatten, MaxPooling2D\n",
    "from keras.losses import categorical_crossentropy"
   ]
  },
  {
   "cell_type": "markdown",
   "metadata": {},
   "source": [
    "## On the full ('raw') images first; will try compressed & normalized images by Misha later"
   ]
  },
  {
   "cell_type": "code",
   "execution_count": 4,
   "metadata": {},
   "outputs": [
    {
     "name": "stdout",
     "output_type": "stream",
     "text": [
      "Dataset consists of 2 properties\n"
     ]
    }
   ],
   "source": [
    "# Load dataset\n",
    "building_directories = glob.glob(\"../../test/easy/*\")[:2]\n",
    "\n",
    "img_width = 512\n",
    "img_height = 384\n",
    "num_years = len(np.arange(2012,2018+1))\n",
    "\n",
    "# We're going to be using gray scale, so last dimension is 1 rather than 3 for RGB\n",
    "dataset = np.zeros( (len(building_directories), num_years, img_height, img_width, 1) )\n",
    "#dataset = np.zeros( (len(building_directories), num_years, img_height, img_width, 3) )\n",
    "\n",
    "print(\"Dataset consists of %d properties\"%dataset.shape[0])\n",
    "\n",
    "# For storing the true transition years labeled by Chris\n",
    "true_transition_years = []\n",
    "# For tracking the property location\n",
    "building_addresses = []\n",
    "\n",
    "# Loop over the properties\n",
    "for d,directory in enumerate(building_directories):\n",
    "    \n",
    "    # Extract meta info\n",
    "    with open(directory + \"/metadata.json\", \"r\") as read_file:\n",
    "        data = json.load(read_file)\n",
    "    building_addresses.append(data['address'])\n",
    "    \n",
    "    # Extract true transition year\n",
    "    with open(directory + \"/transition.txt\", \"r\") as read_file:\n",
    "        data = read_file.read()          \n",
    "    true_transition_years.append(int(data))\n",
    "    \n",
    "    # Get the images\n",
    "    for y in range(num_years):\n",
    "        # Load image, convert to gray scale, discard alpha channel and normalize pixel values\n",
    "        dataset[d,y] = np.array(Image.open(directory + \"/%s.png\"%(2012+y)).convert('LA'))[:,:,:1]/255\n",
    "        #dataset[d,y] = np.array(Image.open(directory + \"/%s.png\"%(2012+y)))[:,:,:3]/255\n",
    "        \n",
    "        # Normalize images\n",
    "        dataset[d,y] -= dataset[d,y].mean()\n",
    "        dataset[d,y] /= dataset[d,y].std()"
   ]
  },
  {
   "cell_type": "markdown",
   "metadata": {},
   "source": [
    "### Define NN model"
   ]
  },
  {
   "cell_type": "code",
   "execution_count": 15,
   "metadata": {},
   "outputs": [],
   "source": [
    "def init_NN():\n",
    "    # Define a NN model\n",
    "    model = Sequential()\n",
    "    model.add(Conv2D(16, kernel_size=(5, 5), strides=(1, 1),\n",
    "                     activation='relu',\n",
    "                     input_shape=(img_height, img_width, 1)))\n",
    "    model.add(MaxPooling2D(pool_size=(2, 2), strides=(2, 2)))\n",
    "   # model.add(Conv2D(64, (5, 5), activation='relu'))\n",
    "   # model.add(MaxPooling2D(pool_size=(2, 2)))\n",
    "    model.add(Flatten())\n",
    "    model.add(Dense(10, activation='relu'))\n",
    "    model.add(Dense(2, activation='softmax'))\n",
    "\n",
    "    model.compile(loss=categorical_crossentropy,\n",
    "                  optimizer='adam',\n",
    "                  metrics=['accuracy'])\n",
    "    \n",
    "    return model"
   ]
  },
  {
   "cell_type": "markdown",
   "metadata": {},
   "source": [
    "### Naive confusion, per year and per building"
   ]
  },
  {
   "cell_type": "code",
   "execution_count": 16,
   "metadata": {},
   "outputs": [
    {
     "name": "stdout",
     "output_type": "stream",
     "text": [
      "Transition year 2013\n",
      "\t Considering property number 0 out of 2\n",
      "\t Considering property number 1 out of 2\n",
      "Transition year 2014\n",
      "\t Considering property number 0 out of 2\n",
      "\t Considering property number 1 out of 2\n",
      "Transition year 2015\n",
      "\t Considering property number 0 out of 2\n",
      "\t Considering property number 1 out of 2\n",
      "Transition year 2016\n",
      "\t Considering property number 0 out of 2\n",
      "\t Considering property number 1 out of 2\n",
      "Transition year 2017\n",
      "\t Considering property number 0 out of 2\n",
      "\t Considering property number 1 out of 2\n"
     ]
    }
   ],
   "source": [
    "np.random.seed(1990)\n",
    "num_epochs = 10\n",
    "\n",
    "# Keep track of the network's accuracy per epoch, per building and per 'guessed' transition year\n",
    "network_performance_for_building = np.zeros( (dataset.shape[0], num_epochs, num_years))\n",
    "\n",
    "# We know that at the edges, we'll have 100% performance; so we can skip those\n",
    "for transition_year in range(1,num_years-1):\n",
    "    print(\"Transition year %d\"%(transition_year + 2012))\n",
    "    \n",
    "    # Create the labels\n",
    "    labels = np.zeros( (num_years,2) )\n",
    "    for y in range(num_years):\n",
    "        labels[y] = [1,0] if y <= transition_year else [0,1]\n",
    "        \n",
    "    #\n",
    "    # Could sample indices here instead of taking the entire dataset\n",
    "    #\n",
    "    building_indices = np.arange(dataset.shape[0])\n",
    "\n",
    "    # New network for every building and every guessed transition year\n",
    "    for b in building_indices:\n",
    "        print(\"\\t Considering property number %d out of %d\"%(b, len(building_indices)))\n",
    "        NN_model = init_NN()\n",
    "    \n",
    "        for e in np.arange(num_epochs):\n",
    "            # Train the network with this set of labels\n",
    "            history = NN_model.fit( dataset[b], labels, epochs=1, verbose=0 )\n",
    "            network_performance_for_building[b,e,transition_year] = history.history['acc'][0]"
   ]
  },
  {
   "cell_type": "code",
   "execution_count": 17,
   "metadata": {},
   "outputs": [
    {
     "name": "stdout",
     "output_type": "stream",
     "text": [
      "True vs predicted:  2016 2014\n",
      "True vs predicted:  2017 2016\n"
     ]
    },
    {
     "data": {
      "text/plain": [
       "[Text(0, 0, '2013'),\n",
       " Text(0, 0, '2014'),\n",
       " Text(0, 0, '2015'),\n",
       " Text(0, 0, '2016'),\n",
       " Text(0, 0, '2017')]"
      ]
     },
     "execution_count": 17,
     "metadata": {},
     "output_type": "execute_result"
    },
    {
     "data": {
      "image/png": "[encoded data removed]",
      "text/plain": [
       "<Figure size 432x288 with 1 Axes>"
      ]
     },
     "metadata": {
      "needs_background": "light"
     },
     "output_type": "display_data"
    }
   ],
   "source": [
    "fig, ax = plt.subplots()\n",
    "\n",
    "epoch_to_plot = 2\n",
    "\n",
    "predicted_transition_years = []\n",
    "for b in range(dataset.shape[0]):\n",
    "    ax.plot( network_performance_for_building[b,epoch_to_plot][1:-1], label=\"%d\"%b )\n",
    "    \n",
    "    transition_index = np.argmax(network_performance_for_building[b,epoch_to_plot])\n",
    "    print(\"True vs predicted: \", true_transition_years[b], range(2012,2019)[transition_index])\n",
    "    predicted_transition_years.append(range(2012,2019)[transition_index])\n",
    "    \n",
    "ax.legend(title=\"Building index\", fancybox=True, shadow=False, bbox_to_anchor=(0.3, 1, 1, 0))\n",
    "\n",
    "ax.set_ylabel(\"Classification accuracy (%)\")\n",
    "ax.set_yticks(np.arange(6,11)/10)\n",
    "ax.set_yticklabels(np.arange(60,110, 10))\n",
    "\n",
    "ax.set_xlabel(\"Transition Year\")\n",
    "ax.set_xticks( np.arange(5) )\n",
    "ax.set_xticklabels( np.arange(2013,2018) )"
   ]
  },
  {
   "cell_type": "markdown",
   "metadata": {},
   "source": [
    "## One network per year (generalize across buildings?)"
   ]
  },
  {
   "cell_type": "code",
   "execution_count": 79,
   "metadata": {},
   "outputs": [
    {
     "name": "stdout",
     "output_type": "stream",
     "text": [
      "Transition year 2013\n",
      "Epoch: 0\n",
      "Epoch: 1\n",
      "Epoch: 2\n",
      "Epoch: 3\n",
      "Epoch: 4\n",
      "Epoch: 5\n",
      "Epoch: 6\n",
      "Epoch: 7\n",
      "Epoch: 8\n",
      "Epoch: 9\n",
      "Transition year 2014\n",
      "Epoch: 0\n",
      "Epoch: 1\n",
      "Epoch: 2\n",
      "Epoch: 3\n",
      "Epoch: 4\n",
      "Epoch: 5\n",
      "Epoch: 6\n",
      "Epoch: 7\n",
      "Epoch: 8\n",
      "Epoch: 9\n",
      "Transition year 2015\n",
      "Epoch: 0\n",
      "Epoch: 1\n",
      "Epoch: 2\n",
      "Epoch: 3\n",
      "Epoch: 4\n",
      "Epoch: 5\n",
      "Epoch: 6\n",
      "Epoch: 7\n",
      "Epoch: 8\n",
      "Epoch: 9\n",
      "Transition year 2016\n",
      "Epoch: 0\n",
      "Epoch: 1\n",
      "Epoch: 2\n",
      "Epoch: 3\n",
      "Epoch: 4\n",
      "Epoch: 5\n",
      "Epoch: 6\n",
      "Epoch: 7\n",
      "Epoch: 8\n",
      "Epoch: 9\n",
      "Transition year 2017\n",
      "Epoch: 0\n",
      "Epoch: 1\n",
      "Epoch: 2\n",
      "Epoch: 3\n",
      "Epoch: 4\n",
      "Epoch: 5\n",
      "Epoch: 6\n",
      "Epoch: 7\n",
      "Epoch: 8\n",
      "Epoch: 9\n"
     ]
    }
   ],
   "source": [
    "np.random.seed(1990)\n",
    "num_epochs = 10\n",
    "\n",
    "network_performance_for_building = np.zeros( (dataset.shape[0], num_epochs, num_years))\n",
    "\n",
    "for transition_year in range(1,num_years-1):\n",
    "    print(\"Transition year %d\"%(transition_year + 2012))\n",
    "    \n",
    "    # I want the model to generalize over all the buildings\n",
    "    NN_model_for_this_year = init_NN()\n",
    "    \n",
    "    # Create the labels\n",
    "    labels = np.zeros( (num_years,2) )\n",
    "    for y in range(num_years):\n",
    "        labels[y] = [1,0] if y <= transition_year else [0,1]\n",
    "\n",
    "    for e in np.arange(num_epochs):\n",
    "        print(\"Epoch: %d\"%e)\n",
    "    \n",
    "        # Sample a few buildings\n",
    "        building_indices = np.arange(dataset.shape[0]) #np.random.choice(dataset.shape[0], size=3, replace=False)\n",
    "    \n",
    "        # Pick a transition year for each\n",
    "        for b in building_indices:\n",
    "            # Train the network with this set of labels\n",
    "            history = NN_model_for_this_year.fit( dataset[b], labels, epochs=1, verbose=0 )\n",
    "            network_performance_for_building[b,e,transition_year] = history.history['acc'][0]"
   ]
  },
  {
   "cell_type": "code",
   "execution_count": null,
   "metadata": {},
   "outputs": [],
   "source": []
  },
  {
   "cell_type": "code",
   "execution_count": null,
   "metadata": {},
   "outputs": [],
   "source": []
  }
 ],
 "metadata": {
  "kernelspec": {
   "display_name": "Python 3",
   "language": "python",
   "name": "python3"
  },
  "language_info": {
   "codemirror_mode": {
    "name": "ipython",
    "version": 3
   },
   "file_extension": ".py",
   "mimetype": "text/x-python",
   "name": "python",
   "nbconvert_exporter": "python",
   "pygments_lexer": "ipython3",
   "version": "3.6.8"
  },
  "toc": {
   "nav_menu": {},
   "number_sections": true,
   "sideBar": true,
   "skip_h1_title": false,
   "title_cell": "Table of Contents",
   "title_sidebar": "Contents",
   "toc_cell": false,
   "toc_position": {},
   "toc_section_display": true,
   "toc_window_display": false
  }
 },
 "nbformat": 4,
 "nbformat_minor": 2
}
